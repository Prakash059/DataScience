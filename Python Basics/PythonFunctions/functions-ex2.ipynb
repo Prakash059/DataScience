{
  "cells": [
    {
      "metadata": {
        "_uuid": "a5260c996a34488abbf86b5f2e9db2092b1622df"
      },
      "cell_type": "markdown",
      "source": "These exercises accompany the tutorial on [functions and getting help](https://www.kaggle.com/colinmorris/functions-and-getting-help).\n\nAs before, don't forget to run the setup code below before jumping into question 1."
    },
    {
      "metadata": {
        "_kg_hide-input": true,
        "_kg_hide-output": true,
        "_uuid": "253ea3e90fd533f08de11adac8e93f660d582d70",
        "trusted": true
      },
      "cell_type": "code",
      "source": "# SETUP. You don't need to worry for now about what this code does or how it works. If you're ever curious about the \n# code behind these exercises, it's available under an open source license here: https://github.com/Kaggle/learntools/\nfrom learntools.core import binder; binder.bind(globals())\nfrom learntools.python.ex2 import *\nprint('Setup complete.')",
      "execution_count": 20,
      "outputs": [
        {
          "output_type": "stream",
          "text": "Setup complete.\n",
          "name": "stdout"
        }
      ]
    },
    {
      "metadata": {
        "_uuid": "5281d6252c8e4a9c628b7427f03ff6f33a16b664"
      },
      "cell_type": "markdown",
      "source": "# Exercises"
    },
    {
      "metadata": {
        "_uuid": "9cabb05ea2ccc7221e6d2d39e2e5e18b1e31eb37"
      },
      "cell_type": "markdown",
      "source": "## 1.\n\nComplete the body of the following function according to its docstring.\n\nHINT: Python has a builtin function `round`"
    },
    {
      "metadata": {
        "_uuid": "607b3dd37298202331897b789e1fc7e26b7c9068",
        "trusted": true
      },
      "cell_type": "code",
      "source": "def round_to_two_places(num):\n    \"\"\"Return the given number rounded to two decimal places. \n    \n    >>> round_to_two_places(3.14159)\n    3.14\n    \"\"\"\n    #return float(\"{0:.2f}\".format(num))\n    return round(num,2)\n    # Replace this body with your own code.\n    # (\"pass\" is a keyword that does literally nothing. We used it as a placeholder\n    # because after we begin a code block, Python requires at least one line of code)\n    pass\n\nq1.check()",
      "execution_count": 21,
      "outputs": [
        {
          "output_type": "display_data",
          "data": {
            "text/plain": "<IPython.core.display.Javascript object>",
            "application/javascript": "parent.postMessage({\"jupyterEvent\": \"custom.exercise_interaction\", \"data\": {\"outcomeType\": 1, \"valueTowardsCompletion\": 0.5, \"interactionType\": 1, \"learnTutorialId\": 104, \"questionId\": \"1_RoundFunctionProblem\", \"learnToolsVersion\": \"0.2.5\", \"failureMessage\": \"\", \"exceptionClass\": \"\", \"trace\": \"\"}}, \"*\")"
          },
          "metadata": {}
        },
        {
          "output_type": "display_data",
          "data": {
            "text/plain": "Correct",
            "text/markdown": "<span style=\"color:#33cc33\">Correct</span>"
          },
          "metadata": {}
        }
      ]
    },
    {
      "metadata": {
        "_uuid": "020eaf8f4e382c7d0294e1db123ee18d4dbacd49",
        "trusted": true
      },
      "cell_type": "code",
      "source": "# Uncomment the following for a hint\n#q1.hint()\n# Or uncomment the following to peek at the solution\n#q1.solution()",
      "execution_count": 22,
      "outputs": []
    },
    {
      "metadata": {
        "collapsed": true,
        "_uuid": "a98cc6b6dcc0dfaf9b87e07689ae2f5abcc517b7"
      },
      "cell_type": "markdown",
      "source": "## 2.\nThe help for `round` says that `ndigits` (the second argument) may be negative.\nWhat do you think will happen when it is? Try out some examples in the console (at the bottom of the editor) or in a new code cell.\n\nCan you think of a case where this would be useful?"
    },
    {
      "metadata": {
        "_uuid": "0452666a8078e92ce56d7ff453dcb37a8891e199",
        "trusted": true
      },
      "cell_type": "code",
      "source": "#q2.solution()",
      "execution_count": 36,
      "outputs": []
    },
    {
      "metadata": {
        "_uuid": "843da3c4724f72c4ba51e581e113a8068aa4a4bb"
      },
      "cell_type": "markdown",
      "source": "## 3.\n\nIn the last exercise, I introduced candy-sharing friends Alice, Bob and Carol. As a reminder, they have some candies which they plan to split evenly among themselves. For the sake of their friendship, any candies left over would be smashed. For example, if they collectively bring home 91 candies, they'll take 30 each and smash 1.\n\nEarlier, you wrote some code to calculate how many candies they'd have to smash, assuming they collected a particular number.\n\nBelow is a simple function that will calculate the number of candies to smash for *any* number of total candies.\n\nModify it so that it optionally takes a second argument representing the number of friends the candies are being split between. If no second argument is provided, it should assume 3 friends, as before.\n\nIf you're feeling extra fastidious, update the docstring to reflect this new behaviour (but we won't be checking for this)."
    },
    {
      "metadata": {
        "_uuid": "9cc9a1baa373bf53de157469e5d2714f60e2d88d",
        "trusted": true
      },
      "cell_type": "code",
      "source": "def to_smash(total_candies,n):\n    \"\"\"Return the number of leftover candies that must be smashed after distributing\n    the given number of candies evenly between 3 friends.\n    \n    >>> to_smash(91)\n    1\n    \"\"\"\n    return total_candies % n\n\nq3.check()",
      "execution_count": null,
      "outputs": []
    },
    {
      "metadata": {
        "_uuid": "1cd22cc856754a5a13bda2ab5a328ccf9610140f",
        "trusted": true
      },
      "cell_type": "code",
      "source": "#q3.hint()",
      "execution_count": null,
      "outputs": []
    },
    {
      "metadata": {
        "_uuid": "d1ea6a9a39c020f3ab6349d18ff03a74333ee924",
        "trusted": true
      },
      "cell_type": "code",
      "source": "#q3.solution()",
      "execution_count": null,
      "outputs": []
    },
    {
      "metadata": {
        "_uuid": "671bc160d1c257cea709033b26db803b8adeba13"
      },
      "cell_type": "markdown",
      "source": "## 4.\n\nIt may not be fun, but reading and understanding error messages will be an important part of your Python career.\n\nEach code cell below contains some commented-out buggy code. For each cell...\n\n1. Read the code and predict what you think will happen when it's run.\n2. Then uncomment the code and run it to see what happens. (**Tip**: In the kernel editor, you can highlight several lines and press `ctrl`+`/` to toggle commenting.)\n3. Fix the code (so that it accomplishes its intended purpose without throwing an exception)\n\n<!-- TODO: should this be autochecked? Delta is probably pretty small. -->"
    },
    {
      "metadata": {
        "_uuid": "90cf1246d62a6ae0d33fc57f1a907eca250f6721",
        "trusted": true
      },
      "cell_type": "code",
      "source": "# ruound_to_two_places(9.9999)\nprint(round(9.9999,2))",
      "execution_count": null,
      "outputs": []
    },
    {
      "metadata": {
        "_uuid": "52c3716a7eecd474d9ca32b01b18ffa91564bbe0",
        "trusted": true
      },
      "cell_type": "code",
      "source": "# x = -10\n# y = 5\n# # Which of the two variables above has the smallest absolute value?\n# smallest_abs = min(abs(x, y))",
      "execution_count": null,
      "outputs": []
    },
    {
      "metadata": {
        "_uuid": "f27bcfab00539506c712a7850c47636956f4ea6e",
        "trusted": true
      },
      "cell_type": "code",
      "source": "# def f(x):\n#     y = abs(x)\n# return y\n\n# print(f(5))",
      "execution_count": 29,
      "outputs": []
    },
    {
      "metadata": {
        "_uuid": "cfff85fcd6d367ad89a02a0cd98c574554a63fbc"
      },
      "cell_type": "markdown",
      "source": "## 5. <span title=\"A bit spicy\" style=\"color: darkgreen \">🌶️</span>\n\nFor this question, we'll be using two functions imported from Python's `time` module.\n\nThe [time](https://docs.python.org/3/library/time.html#time.time) function returns the number of seconds that have passed since the Epoch (aka [Unix time](https://en.wikipedia.org/wiki/Unix_time)). \n\n<!-- We've provided a function called `seconds_since_epoch` which returns the number of seconds that have passed since the Epoch (aka [Unix time](https://en.wikipedia.org/wiki/Unix_time)). -->\n\nTry it out below. Each time you run it, you should get a slightly larger number."
    },
    {
      "metadata": {
        "_uuid": "ca0c6a783ffd205f3664791ba5195fc3bfd7f77d",
        "trusted": true
      },
      "cell_type": "code",
      "source": "# Importing the function 'time' from the module of the same name. \n# (We'll discuss imports in more depth later)\nfrom time import time\nt = time()\nprint(t, \"seconds since the Epoch\")",
      "execution_count": null,
      "outputs": []
    },
    {
      "metadata": {
        "_uuid": "6c58ad14254431d6010546165c81916efc391d1a"
      },
      "cell_type": "markdown",
      "source": "We'll also be using a function called [sleep](https://docs.python.org/3/library/time.html#time.sleep), which makes us wait some number of seconds while it does nothing particular. (Sounds useful, right?)\n\nYou can see it in action by running the cell below:"
    },
    {
      "metadata": {
        "_uuid": "09f9da1faeb1b25d0e4c4a7367451854ba811515",
        "trusted": true
      },
      "cell_type": "code",
      "source": "from time import sleep\nduration = 5\nprint(\"Getting sleepy. See you in\", duration, \"seconds\")\nsleep(duration)\nprint(\"I'm back. What did I miss?\")",
      "execution_count": null,
      "outputs": []
    },
    {
      "metadata": {
        "_uuid": "d10b29841a0c8e3bcc5154df83c5c0c63b9ba473"
      },
      "cell_type": "markdown",
      "source": "With the help of these functions, complete the function `time_call` below according to its docstring.\n\n<!-- (The sleep function will be useful for testing here since we have a pretty good idea of what something like `time_call(sleep, 1)` should return.) -->"
    },
    {
      "metadata": {
        "_uuid": "bc0f30574ffca7d7da10c942e712900300cb5921",
        "trusted": true
      },
      "cell_type": "code",
      "source": "def time_call(fn, arg):\n    \"\"\"Return the amount of time the given function takes (in seconds) when called with the given argument.\n    \"\"\"\n    pass",
      "execution_count": null,
      "outputs": []
    },
    {
      "metadata": {
        "_uuid": "d5a310f136ff1a714b25e1c380734fee94defc3d"
      },
      "cell_type": "markdown",
      "source": "How can you verify that `time_call` is working correctly? (There's no `q5.check()` function for this question - testing your solution is part of your challenge.)"
    },
    {
      "metadata": {
        "_uuid": "cf0970d1b281a07cc14c59f84328c45e9665e762",
        "trusted": true
      },
      "cell_type": "code",
      "source": "#q5.hint()",
      "execution_count": null,
      "outputs": []
    },
    {
      "metadata": {
        "_uuid": "6c3147769e4e25ddd384fe47b78dd77420060c79",
        "trusted": true
      },
      "cell_type": "code",
      "source": "#q5.solution()",
      "execution_count": null,
      "outputs": []
    },
    {
      "metadata": {
        "_uuid": "be64d0771fe258e74c48e537e1d8d2d850131bc7"
      },
      "cell_type": "markdown",
      "source": "## 6. <span title=\"A bit spicy\" style=\"color: darkgreen \">🌶️</span>\n\n*Note: this question depends on a working solution to the previous question.*\n\nComplete the function below according to its docstring."
    },
    {
      "metadata": {
        "_uuid": "95039a786129a3c1edd4d6f6e7ccafbc28ebeb21",
        "trusted": true
      },
      "cell_type": "code",
      "source": "def slowest_call(fn, arg1, arg2, arg3):\n    \"\"\"Return the amount of time taken by the slowest of the following function\n    calls: fn(arg1), fn(arg2), fn(arg3)\n    \"\"\"\n    pass",
      "execution_count": null,
      "outputs": []
    },
    {
      "metadata": {
        "_uuid": "d7f758b099dcbe8d46c2ce25f872ab45d92d231d",
        "trusted": true
      },
      "cell_type": "code",
      "source": "#q6.hint()",
      "execution_count": null,
      "outputs": []
    },
    {
      "metadata": {
        "_uuid": "99fbc6ad5a13cf23e838a4cb9538ea8e77241d6a",
        "trusted": true
      },
      "cell_type": "code",
      "source": "#q6.solution()",
      "execution_count": null,
      "outputs": []
    },
    {
      "metadata": {
        "_uuid": "acd0986ca2d19d7948e0e2f0bc461fbf0ba6341d"
      },
      "cell_type": "markdown",
      "source": "\n\n## 7. <span title=\"A bit spicy\" style=\"color: darkgreen \">🌶️</span>\n\nWhat will Python display after we run the following (weird) code? Think carefully about the order in which Python will evaluate each part. When you have a prediction, uncomment and run the code to check whether you were correct."
    },
    {
      "metadata": {
        "_uuid": "f0f223ecff6857f0fd150a95f85c9be5cb2d63d3",
        "trusted": true
      },
      "cell_type": "code",
      "source": "#print(print(\"Spam\"))",
      "execution_count": null,
      "outputs": []
    },
    {
      "metadata": {
        "_uuid": "66c05b93b50a1582dce3bffbc3e70130ab11d3fc",
        "trusted": true
      },
      "cell_type": "code",
      "source": "#q7.hint()",
      "execution_count": null,
      "outputs": []
    },
    {
      "metadata": {
        "_uuid": "fe47bceff1b62a3138e9e346585be3d3757bf714",
        "trusted": true
      },
      "cell_type": "code",
      "source": "# Uncomment for an explanation.\n#q7.solution()",
      "execution_count": null,
      "outputs": []
    },
    {
      "metadata": {
        "_uuid": "5db2a4489ae4185d7532fe48dffe2337287c1ae7"
      },
      "cell_type": "markdown",
      "source": "## 8. <span title=\"Spicy - this optional problem is intended to be extra difficult\" style=\"color: coral\">🌶️🌶️</span>\n\nRead the function definition below. What do you think will be returned by the function call at the bottom of the cell? Will it match the docstring example? Return something else? Or will Python raise an exception? When you're ready, run the code cell to find out."
    },
    {
      "metadata": {
        "_uuid": "051a05967a6befbbbe2d8c7b32560ff3c09886e6",
        "trusted": true
      },
      "cell_type": "code",
      "source": "def smallest_stringy_number(s1, s2, s3):\n    \"\"\"Return whichever of the three string arguments represents the smallest number.\n    \n    >>> smallest_stringy_number('1', '2', '3')\n    '1'\n    \"\"\"\n    return min(s1, s2, s3)\n\nsmallest_stringy_number('1', '2', '3')",
      "execution_count": null,
      "outputs": []
    },
    {
      "metadata": {
        "_uuid": "498689d68aca2283e64b23bcb0570b3c0247a1b4"
      },
      "cell_type": "markdown",
      "source": "<br/><br/><br/><br/><br/><br/><br/><br/><br/>\n\n(If you thought it would raise an exception, that's a perfectly reasonable guess. A large portion of learning Python is just trying stuff out and seeing what happens! A lot of arbitrary or at least subjective decisions go into designing a programming language, and it's not always possible to deduce from first principles how Python will handle a particular situation.)\n\nBut in this case, the `min` function gamely accepts our string inputs and seems to work as desired! Or, at least on the example in the docstring. However, there's a subtle problem afoot. Try experimenting with the function to see if you can find a set of inputs where it fails. Can you see where it's going wrong?"
    },
    {
      "metadata": {
        "_uuid": "4d00f3c7c8dd8456af1ecf5927258bae9372ff1d",
        "trusted": true
      },
      "cell_type": "code",
      "source": "#q8.a.solution()",
      "execution_count": null,
      "outputs": []
    },
    {
      "metadata": {
        "_uuid": "8e06917e25bff66209e061b26aaaf7f0f70dc99a"
      },
      "cell_type": "markdown",
      "source": "### b.\n\nIn the cell below, modify `smallest_stringy_number` to fix the bug you identified in part a.\n\nReminder: [In the first lesson](https://www.kaggle.com/colinmorris/hello-python), we briefly saw that `int` can be called on strings such as `'32'` to get the corresponding integer value.\n\n**Bonus**: Can you keep the function's body down to one line? (Try to only use tools we've seen so far - i.e. no loops, conditionals, etc.)"
    },
    {
      "metadata": {
        "_uuid": "314dc07d7401dca410813c1bc8d9af469a504064",
        "trusted": true
      },
      "cell_type": "code",
      "source": "def smallest_stringy_number(s1, s2, s3):\n    \"\"\"Return whichever of the three string arguments represents the smallest number.\n    \n    >>> smallest_stringy_number('1', '2', '3')\n    '1'\n    \"\"\"\n    return min(s1, s2, s3)\n\nq8.b.check()",
      "execution_count": null,
      "outputs": []
    },
    {
      "metadata": {
        "_uuid": "80089cbdb33de650ada2ac5f9c49302318d16c9d",
        "trusted": true
      },
      "cell_type": "code",
      "source": "#q8.b.hint()",
      "execution_count": null,
      "outputs": []
    },
    {
      "metadata": {
        "_uuid": "d8c4596ea1ba7332cc6b08b88b0d23c3a7d31cbe",
        "trusted": true
      },
      "cell_type": "code",
      "source": "#q8.b.solution()",
      "execution_count": null,
      "outputs": []
    },
    {
      "metadata": {
        "_uuid": "a6a27715854d0bf48624f11bee5e5808921cd3da"
      },
      "cell_type": "markdown",
      "source": "If you have any questions, be sure to post them on the [forums](https://www.kaggle.com/learn-forum).\n\nRemember that your notebook is private by default, and in order to share it with other people or ask for help with it, you'll need to make it public. First, you'll need to save a version of your notebook that shows your current work by hitting the \"Commit & Run\" button. (Your work is saved automatically, but versioning your work lets you go back and look at what it was like at the point you saved it. It also let's you share a nice compiled notebook instead of just the raw code.) Then, once your notebook is finished running, you can go to the Settings tab in the panel to the left (you may have to expand it by hitting the [<] button next to the \"Commit & Run\" button) and setting the \"Visibility\" dropdown to \"Public\".\n\n# Keep Going\n\nWhen you're ready to continue, [click here](https://www.kaggle.com/colinmorris/booleans-and-conditionals) to continue on to the next tutorial on booleans and conditionals."
    }
  ],
  "metadata": {
    "kernelspec": {
      "display_name": "Python 3",
      "language": "python",
      "name": "python3"
    },
    "language_info": {
      "name": "python",
      "version": "3.6.6",
      "mimetype": "text/x-python",
      "codemirror_mode": {
        "name": "ipython",
        "version": 3
      },
      "pygments_lexer": "ipython3",
      "nbconvert_exporter": "python",
      "file_extension": ".py"
    },
    "learntools_metadata": {
      "lesson_index": 1,
      "type": "exercise"
    }
  },
  "nbformat": 4,
  "nbformat_minor": 1
}