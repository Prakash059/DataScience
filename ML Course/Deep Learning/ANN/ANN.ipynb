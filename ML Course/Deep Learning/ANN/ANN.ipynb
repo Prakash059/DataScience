{
 "cells": [
  {
   "cell_type": "code",
   "execution_count": 1,
   "metadata": {},
   "outputs": [],
   "source": [
    "# Part 1 - Data Preprocessing\n",
    "\n",
    "# Importing the libraries\n",
    "import numpy as np\n",
    "import matplotlib.pyplot as plt\n",
    "import pandas as pd\n"
   ]
  },
  {
   "cell_type": "code",
   "execution_count": 2,
   "metadata": {},
   "outputs": [],
   "source": [
    "# Importing the dataset\n",
    "dataset = pd.read_csv('Churn_Modelling.csv')\n",
    "X = dataset.iloc[:, 3:13].values\n",
    "y = dataset.iloc[:, 13].values"
   ]
  },
  {
   "cell_type": "code",
   "execution_count": 3,
   "metadata": {},
   "outputs": [
    {
     "data": {
      "text/plain": [
       "array([[619, 'France', 'Female', ..., 1, 1, 101348.88],\n",
       "       [608, 'Spain', 'Female', ..., 0, 1, 112542.58],\n",
       "       [502, 'France', 'Female', ..., 1, 0, 113931.57],\n",
       "       ...,\n",
       "       [709, 'France', 'Female', ..., 0, 1, 42085.58],\n",
       "       [772, 'Germany', 'Male', ..., 1, 0, 92888.52],\n",
       "       [792, 'France', 'Female', ..., 1, 0, 38190.78]], dtype=object)"
      ]
     },
     "execution_count": 3,
     "metadata": {},
     "output_type": "execute_result"
    }
   ],
   "source": [
    "X"
   ]
  },
  {
   "cell_type": "code",
   "execution_count": 4,
   "metadata": {},
   "outputs": [
    {
     "data": {
      "text/plain": [
       "array([1, 0, 1, ..., 1, 1, 0])"
      ]
     },
     "execution_count": 4,
     "metadata": {},
     "output_type": "execute_result"
    }
   ],
   "source": [
    "y"
   ]
  },
  {
   "cell_type": "code",
   "execution_count": 5,
   "metadata": {},
   "outputs": [],
   "source": [
    "# Encoding categorical data\n",
    "from sklearn.preprocessing import LabelEncoder, OneHotEncoder\n",
    "labelencoder_X_1 = LabelEncoder()\n",
    "X[:, 1] = labelencoder_X_1.fit_transform(X[:, 1])\n",
    "labelencoder_X_2 = LabelEncoder()\n",
    "X[:, 2] = labelencoder_X_2.fit_transform(X[:, 2])\n",
    "onehotencoder = OneHotEncoder(categorical_features = [1])\n",
    "X = onehotencoder.fit_transform(X).toarray()\n",
    "X = X[:, 1:]\n",
    "\n",
    "# Splitting the dataset into the Training set and Test set\n",
    "from sklearn.model_selection import train_test_split\n",
    "X_train, X_test, y_train, y_test = train_test_split(X, y, test_size = 0.2, random_state = 0)\n",
    "\n",
    "# Feature Scaling\n",
    "from sklearn.preprocessing import StandardScaler\n",
    "sc = StandardScaler()\n",
    "X_train = sc.fit_transform(X_train)\n",
    "X_test = sc.transform(X_test)"
   ]
  },
  {
   "cell_type": "code",
   "execution_count": 6,
   "metadata": {},
   "outputs": [
    {
     "name": "stderr",
     "output_type": "stream",
     "text": [
      "Using TensorFlow backend.\n",
      "/home/prakash/anaconda3/lib/python3.7/site-packages/tensorflow/python/framework/dtypes.py:526: FutureWarning: Passing (type, 1) or '1type' as a synonym of type is deprecated; in a future version of numpy, it will be understood as (type, (1,)) / '(1,)type'.\n",
      "  _np_qint8 = np.dtype([(\"qint8\", np.int8, 1)])\n",
      "/home/prakash/anaconda3/lib/python3.7/site-packages/tensorflow/python/framework/dtypes.py:527: FutureWarning: Passing (type, 1) or '1type' as a synonym of type is deprecated; in a future version of numpy, it will be understood as (type, (1,)) / '(1,)type'.\n",
      "  _np_quint8 = np.dtype([(\"quint8\", np.uint8, 1)])\n",
      "/home/prakash/anaconda3/lib/python3.7/site-packages/tensorflow/python/framework/dtypes.py:528: FutureWarning: Passing (type, 1) or '1type' as a synonym of type is deprecated; in a future version of numpy, it will be understood as (type, (1,)) / '(1,)type'.\n",
      "  _np_qint16 = np.dtype([(\"qint16\", np.int16, 1)])\n",
      "/home/prakash/anaconda3/lib/python3.7/site-packages/tensorflow/python/framework/dtypes.py:529: FutureWarning: Passing (type, 1) or '1type' as a synonym of type is deprecated; in a future version of numpy, it will be understood as (type, (1,)) / '(1,)type'.\n",
      "  _np_quint16 = np.dtype([(\"quint16\", np.uint16, 1)])\n",
      "/home/prakash/anaconda3/lib/python3.7/site-packages/tensorflow/python/framework/dtypes.py:530: FutureWarning: Passing (type, 1) or '1type' as a synonym of type is deprecated; in a future version of numpy, it will be understood as (type, (1,)) / '(1,)type'.\n",
      "  _np_qint32 = np.dtype([(\"qint32\", np.int32, 1)])\n",
      "/home/prakash/anaconda3/lib/python3.7/site-packages/tensorflow/python/framework/dtypes.py:535: FutureWarning: Passing (type, 1) or '1type' as a synonym of type is deprecated; in a future version of numpy, it will be understood as (type, (1,)) / '(1,)type'.\n",
      "  np_resource = np.dtype([(\"resource\", np.ubyte, 1)])\n"
     ]
    }
   ],
   "source": [
    "# Part 2 - Now let's make the ANN!\n",
    "\n",
    "# Importing the Keras libraries and packages\n",
    "import keras\n",
    "from keras.models import Sequential\n",
    "from keras.layers import Dense"
   ]
  },
  {
   "cell_type": "code",
   "execution_count": 7,
   "metadata": {},
   "outputs": [
    {
     "name": "stdout",
     "output_type": "stream",
     "text": [
      "WARNING:tensorflow:From /home/prakash/anaconda3/lib/python3.7/site-packages/tensorflow/python/ops/resource_variable_ops.py:435: colocate_with (from tensorflow.python.framework.ops) is deprecated and will be removed in a future version.\n",
      "Instructions for updating:\n",
      "Colocations handled automatically by placer.\n"
     ]
    },
    {
     "name": "stderr",
     "output_type": "stream",
     "text": [
      "/home/prakash/anaconda3/lib/python3.7/site-packages/ipykernel_launcher.py:5: UserWarning: Update your `Dense` call to the Keras 2 API: `Dense(activation=\"relu\", input_dim=11, units=6, kernel_initializer=\"uniform\")`\n",
      "  \"\"\"\n"
     ]
    }
   ],
   "source": [
    "# Initialising the ANN\n",
    "classifier = Sequential()\n",
    "\n",
    "# Adding the input layer and the first hidden layer\n",
    "classifier.add(Dense(output_dim = 6, init  = 'uniform',activation = 'relu',input_dim=11))"
   ]
  },
  {
   "cell_type": "code",
   "execution_count": 8,
   "metadata": {},
   "outputs": [
    {
     "name": "stderr",
     "output_type": "stream",
     "text": [
      "/home/prakash/anaconda3/lib/python3.7/site-packages/ipykernel_launcher.py:2: UserWarning: Update your `Dense` call to the Keras 2 API: `Dense(activation=\"relu\", units=6, kernel_initializer=\"uniform\")`\n",
      "  \n"
     ]
    }
   ],
   "source": [
    "# Adding the second hidden layer\n",
    "classifier.add(Dense(output_dim = 6, init  = 'uniform',activation = 'relu'))"
   ]
  },
  {
   "cell_type": "code",
   "execution_count": 9,
   "metadata": {},
   "outputs": [
    {
     "name": "stderr",
     "output_type": "stream",
     "text": [
      "/home/prakash/anaconda3/lib/python3.7/site-packages/ipykernel_launcher.py:2: UserWarning: Update your `Dense` call to the Keras 2 API: `Dense(activation=\"sigmoid\", units=1, kernel_initializer=\"uniform\")`\n",
      "  \n"
     ]
    }
   ],
   "source": [
    "# Adding the output layer\n",
    "classifier.add(Dense(output_dim=1,init='uniform',activation='sigmoid'))"
   ]
  },
  {
   "cell_type": "code",
   "execution_count": 10,
   "metadata": {},
   "outputs": [],
   "source": [
    "# Compiling the ANN\n",
    "classifier.compile(optimizer='adam',loss='binary_crossentropy',metrics=['accuracy'])"
   ]
  },
  {
   "cell_type": "code",
   "execution_count": 11,
   "metadata": {},
   "outputs": [
    {
     "name": "stdout",
     "output_type": "stream",
     "text": [
      "WARNING:tensorflow:From /home/prakash/anaconda3/lib/python3.7/site-packages/tensorflow/python/ops/math_ops.py:3066: to_int32 (from tensorflow.python.ops.math_ops) is deprecated and will be removed in a future version.\n",
      "Instructions for updating:\n",
      "Use tf.cast instead.\n"
     ]
    },
    {
     "name": "stderr",
     "output_type": "stream",
     "text": [
      "/home/prakash/anaconda3/lib/python3.7/site-packages/ipykernel_launcher.py:2: UserWarning: The `nb_epoch` argument in `fit` has been renamed `epochs`.\n",
      "  \n"
     ]
    },
    {
     "name": "stdout",
     "output_type": "stream",
     "text": [
      "Epoch 1/100\n",
      "8000/8000 [==============================] - 2s 224us/step - loss: 0.4796 - accuracy: 0.7976\n",
      "Epoch 2/100\n",
      "8000/8000 [==============================] - 2s 192us/step - loss: 0.4157 - accuracy: 0.8245\n",
      "Epoch 3/100\n",
      "8000/8000 [==============================] - 2s 196us/step - loss: 0.4007 - accuracy: 0.8291\n",
      "Epoch 4/100\n",
      "8000/8000 [==============================] - 2s 200us/step - loss: 0.3895 - accuracy: 0.8313\n",
      "Epoch 5/100\n",
      "8000/8000 [==============================] - 2s 193us/step - loss: 0.3822 - accuracy: 0.8328\n",
      "Epoch 6/100\n",
      "8000/8000 [==============================] - 2s 197us/step - loss: 0.3772 - accuracy: 0.8388\n",
      "Epoch 7/100\n",
      "8000/8000 [==============================] - 2s 203us/step - loss: 0.3730 - accuracy: 0.8455\n",
      "Epoch 8/100\n",
      "8000/8000 [==============================] - 2s 204us/step - loss: 0.3694 - accuracy: 0.8493\n",
      "Epoch 9/100\n",
      "8000/8000 [==============================] - 2s 207us/step - loss: 0.3665 - accuracy: 0.8499\n",
      "Epoch 10/100\n",
      "8000/8000 [==============================] - 2s 211us/step - loss: 0.3650 - accuracy: 0.8497\n",
      "Epoch 11/100\n",
      "8000/8000 [==============================] - 2s 203us/step - loss: 0.3621 - accuracy: 0.8516\n",
      "Epoch 12/100\n",
      "8000/8000 [==============================] - 2s 194us/step - loss: 0.3610 - accuracy: 0.8541\n",
      "Epoch 13/100\n",
      "8000/8000 [==============================] - 2s 201us/step - loss: 0.3589 - accuracy: 0.8508\n",
      "Epoch 14/100\n",
      "8000/8000 [==============================] - 2s 203us/step - loss: 0.3573 - accuracy: 0.8533\n",
      "Epoch 15/100\n",
      "8000/8000 [==============================] - 2s 203us/step - loss: 0.3556 - accuracy: 0.8537\n",
      "Epoch 16/100\n",
      "8000/8000 [==============================] - 2s 193us/step - loss: 0.3537 - accuracy: 0.8544\n",
      "Epoch 17/100\n",
      "8000/8000 [==============================] - 2s 212us/step - loss: 0.3521 - accuracy: 0.8593\n",
      "Epoch 18/100\n",
      "8000/8000 [==============================] - 2s 222us/step - loss: 0.3518 - accuracy: 0.8581\n",
      "Epoch 19/100\n",
      "8000/8000 [==============================] - 2s 234us/step - loss: 0.3520 - accuracy: 0.8570\n",
      "Epoch 20/100\n",
      "8000/8000 [==============================] - 2s 203us/step - loss: 0.3494 - accuracy: 0.8572\n",
      "Epoch 21/100\n",
      "8000/8000 [==============================] - 2s 203us/step - loss: 0.3499 - accuracy: 0.8579\n",
      "Epoch 22/100\n",
      "8000/8000 [==============================] - 2s 213us/step - loss: 0.3487 - accuracy: 0.8558\n",
      "Epoch 23/100\n",
      "8000/8000 [==============================] - 2s 198us/step - loss: 0.3478 - accuracy: 0.8566\n",
      "Epoch 24/100\n",
      "8000/8000 [==============================] - 2s 210us/step - loss: 0.3483 - accuracy: 0.8574\n",
      "Epoch 25/100\n",
      "8000/8000 [==============================] - 2s 223us/step - loss: 0.3477 - accuracy: 0.8568\n",
      "Epoch 26/100\n",
      "8000/8000 [==============================] - 2s 200us/step - loss: 0.3469 - accuracy: 0.8584\n",
      "Epoch 27/100\n",
      "8000/8000 [==============================] - 2s 214us/step - loss: 0.3469 - accuracy: 0.8566\n",
      "Epoch 28/100\n",
      "8000/8000 [==============================] - 2s 209us/step - loss: 0.3460 - accuracy: 0.8599\n",
      "Epoch 29/100\n",
      "8000/8000 [==============================] - 2s 232us/step - loss: 0.3462 - accuracy: 0.8576\n",
      "Epoch 30/100\n",
      "8000/8000 [==============================] - 2s 210us/step - loss: 0.3457 - accuracy: 0.8596\n",
      "Epoch 31/100\n",
      "8000/8000 [==============================] - 2s 196us/step - loss: 0.3457 - accuracy: 0.8581\n",
      "Epoch 32/100\n",
      "8000/8000 [==============================] - 2s 200us/step - loss: 0.3455 - accuracy: 0.8576\n",
      "Epoch 33/100\n",
      "8000/8000 [==============================] - 2s 220us/step - loss: 0.3446 - accuracy: 0.8599\n",
      "Epoch 34/100\n",
      "8000/8000 [==============================] - 2s 216us/step - loss: 0.3457 - accuracy: 0.8608\n",
      "Epoch 35/100\n",
      "8000/8000 [==============================] - 2s 220us/step - loss: 0.3445 - accuracy: 0.8574\n",
      "Epoch 36/100\n",
      "8000/8000 [==============================] - 2s 223us/step - loss: 0.3424 - accuracy: 0.8612\n",
      "Epoch 37/100\n",
      "8000/8000 [==============================] - 2s 214us/step - loss: 0.3438 - accuracy: 0.8605\n",
      "Epoch 38/100\n",
      "8000/8000 [==============================] - 2s 236us/step - loss: 0.3431 - accuracy: 0.8608\n",
      "Epoch 39/100\n",
      "8000/8000 [==============================] - 2s 197us/step - loss: 0.3430 - accuracy: 0.8586\n",
      "Epoch 40/100\n",
      "8000/8000 [==============================] - 2s 207us/step - loss: 0.3426 - accuracy: 0.8591\n",
      "Epoch 41/100\n",
      "8000/8000 [==============================] - 2s 195us/step - loss: 0.3426 - accuracy: 0.8600\n",
      "Epoch 42/100\n",
      "8000/8000 [==============================] - 2s 213us/step - loss: 0.3434 - accuracy: 0.8583\n",
      "Epoch 43/100\n",
      "8000/8000 [==============================] - 2s 236us/step - loss: 0.3420 - accuracy: 0.8597\n",
      "Epoch 44/100\n",
      "8000/8000 [==============================] - 2s 215us/step - loss: 0.3431 - accuracy: 0.8609\n",
      "Epoch 45/100\n",
      "8000/8000 [==============================] - 2s 206us/step - loss: 0.3424 - accuracy: 0.8602\n",
      "Epoch 46/100\n",
      "8000/8000 [==============================] - 2s 208us/step - loss: 0.3420 - accuracy: 0.8604\n",
      "Epoch 47/100\n",
      "8000/8000 [==============================] - 2s 239us/step - loss: 0.3416 - accuracy: 0.8600\n",
      "Epoch 48/100\n",
      "8000/8000 [==============================] - 2s 213us/step - loss: 0.3417 - accuracy: 0.8599\n",
      "Epoch 49/100\n",
      "8000/8000 [==============================] - 2s 211us/step - loss: 0.3415 - accuracy: 0.8621\n",
      "Epoch 50/100\n",
      "8000/8000 [==============================] - 2s 234us/step - loss: 0.3423 - accuracy: 0.8577\n",
      "Epoch 51/100\n",
      "8000/8000 [==============================] - 2s 220us/step - loss: 0.3414 - accuracy: 0.8591\n",
      "Epoch 52/100\n",
      "8000/8000 [==============================] - 2s 205us/step - loss: 0.3407 - accuracy: 0.8593\n",
      "Epoch 53/100\n",
      "8000/8000 [==============================] - 2s 199us/step - loss: 0.3408 - accuracy: 0.8611\n",
      "Epoch 54/100\n",
      "8000/8000 [==============================] - 2s 202us/step - loss: 0.3411 - accuracy: 0.8601\n",
      "Epoch 55/100\n",
      "8000/8000 [==============================] - 2s 210us/step - loss: 0.3401 - accuracy: 0.8599\n",
      "Epoch 56/100\n",
      "8000/8000 [==============================] - 2s 214us/step - loss: 0.3411 - accuracy: 0.8594\n",
      "Epoch 57/100\n",
      "8000/8000 [==============================] - 2s 231us/step - loss: 0.3402 - accuracy: 0.8616\n",
      "Epoch 58/100\n",
      "8000/8000 [==============================] - 2s 203us/step - loss: 0.3396 - accuracy: 0.8601\n",
      "Epoch 59/100\n",
      "8000/8000 [==============================] - 2s 204us/step - loss: 0.3399 - accuracy: 0.8604\n",
      "Epoch 60/100\n",
      "8000/8000 [==============================] - 2s 202us/step - loss: 0.3393 - accuracy: 0.8612\n",
      "Epoch 61/100\n",
      "8000/8000 [==============================] - 2s 202us/step - loss: 0.3397 - accuracy: 0.8587\n",
      "Epoch 62/100\n",
      "8000/8000 [==============================] - 2s 203us/step - loss: 0.3396 - accuracy: 0.8611\n",
      "Epoch 63/100\n",
      "8000/8000 [==============================] - 2s 204us/step - loss: 0.3397 - accuracy: 0.8614\n",
      "Epoch 64/100\n",
      "8000/8000 [==============================] - 2s 199us/step - loss: 0.3387 - accuracy: 0.8599\n",
      "Epoch 65/100\n",
      "8000/8000 [==============================] - 2s 204us/step - loss: 0.3380 - accuracy: 0.8640\n",
      "Epoch 66/100\n",
      "8000/8000 [==============================] - 2s 241us/step - loss: 0.3386 - accuracy: 0.8589\n",
      "Epoch 67/100\n",
      "8000/8000 [==============================] - 2s 204us/step - loss: 0.3385 - accuracy: 0.8611\n",
      "Epoch 68/100\n",
      "8000/8000 [==============================] - 2s 201us/step - loss: 0.3381 - accuracy: 0.8615\n",
      "Epoch 69/100\n",
      "8000/8000 [==============================] - 2s 207us/step - loss: 0.3385 - accuracy: 0.8615\n",
      "Epoch 70/100\n",
      "8000/8000 [==============================] - 2s 205us/step - loss: 0.3384 - accuracy: 0.8622\n",
      "Epoch 71/100\n",
      "8000/8000 [==============================] - 2s 213us/step - loss: 0.3380 - accuracy: 0.8595\n",
      "Epoch 72/100\n",
      "8000/8000 [==============================] - 2s 210us/step - loss: 0.3379 - accuracy: 0.8630\n",
      "Epoch 73/100\n",
      "8000/8000 [==============================] - 2s 211us/step - loss: 0.3379 - accuracy: 0.8620\n",
      "Epoch 74/100\n",
      "8000/8000 [==============================] - 2s 203us/step - loss: 0.3384 - accuracy: 0.8620\n",
      "Epoch 75/100\n",
      "8000/8000 [==============================] - 2s 206us/step - loss: 0.3391 - accuracy: 0.8579\n",
      "Epoch 76/100\n",
      "8000/8000 [==============================] - 2s 223us/step - loss: 0.3379 - accuracy: 0.8621\n",
      "Epoch 77/100\n",
      "8000/8000 [==============================] - 2s 205us/step - loss: 0.3385 - accuracy: 0.8605\n",
      "Epoch 78/100\n"
     ]
    },
    {
     "name": "stdout",
     "output_type": "stream",
     "text": [
      "8000/8000 [==============================] - 2s 194us/step - loss: 0.3377 - accuracy: 0.8591\n",
      "Epoch 79/100\n",
      "8000/8000 [==============================] - 2s 219us/step - loss: 0.3378 - accuracy: 0.8615\n",
      "Epoch 80/100\n",
      "8000/8000 [==============================] - 1s 186us/step - loss: 0.3371 - accuracy: 0.8599\n",
      "Epoch 81/100\n",
      "8000/8000 [==============================] - 2s 189us/step - loss: 0.3373 - accuracy: 0.8618\n",
      "Epoch 82/100\n",
      "8000/8000 [==============================] - 2s 189us/step - loss: 0.3385 - accuracy: 0.8614\n",
      "Epoch 83/100\n",
      "8000/8000 [==============================] - 1s 187us/step - loss: 0.3375 - accuracy: 0.8615\n",
      "Epoch 84/100\n",
      "8000/8000 [==============================] - 2s 188us/step - loss: 0.3378 - accuracy: 0.8608\n",
      "Epoch 85/100\n",
      "8000/8000 [==============================] - 2s 211us/step - loss: 0.3376 - accuracy: 0.8606\n",
      "Epoch 86/100\n",
      "8000/8000 [==============================] - 2s 223us/step - loss: 0.3383 - accuracy: 0.8614\n",
      "Epoch 87/100\n",
      "8000/8000 [==============================] - 2s 190us/step - loss: 0.3373 - accuracy: 0.8600\n",
      "Epoch 88/100\n",
      "8000/8000 [==============================] - 2s 200us/step - loss: 0.3381 - accuracy: 0.8601\n",
      "Epoch 89/100\n",
      "8000/8000 [==============================] - 2s 191us/step - loss: 0.3384 - accuracy: 0.8610\n",
      "Epoch 90/100\n",
      "8000/8000 [==============================] - 1s 186us/step - loss: 0.3376 - accuracy: 0.8605\n",
      "Epoch 91/100\n",
      "8000/8000 [==============================] - 2s 189us/step - loss: 0.3373 - accuracy: 0.8609\n",
      "Epoch 92/100\n",
      "8000/8000 [==============================] - 2s 201us/step - loss: 0.3382 - accuracy: 0.8618\n",
      "Epoch 93/100\n",
      "8000/8000 [==============================] - 2s 197us/step - loss: 0.3378 - accuracy: 0.8605\n",
      "Epoch 94/100\n",
      "8000/8000 [==============================] - 2s 208us/step - loss: 0.3363 - accuracy: 0.8608\n",
      "Epoch 95/100\n",
      "8000/8000 [==============================] - 2s 198us/step - loss: 0.3357 - accuracy: 0.8629\n",
      "Epoch 96/100\n",
      "8000/8000 [==============================] - 2s 223us/step - loss: 0.3367 - accuracy: 0.8611\n",
      "Epoch 97/100\n",
      "8000/8000 [==============================] - 2s 205us/step - loss: 0.3363 - accuracy: 0.8594\n",
      "Epoch 98/100\n",
      "8000/8000 [==============================] - 2s 213us/step - loss: 0.3367 - accuracy: 0.8622\n",
      "Epoch 99/100\n",
      "8000/8000 [==============================] - 2s 206us/step - loss: 0.3363 - accuracy: 0.8611\n",
      "Epoch 100/100\n",
      "8000/8000 [==============================] - 2s 212us/step - loss: 0.3365 - accuracy: 0.8593\n"
     ]
    },
    {
     "data": {
      "text/plain": [
       "<keras.callbacks.callbacks.History at 0x7f586237a810>"
      ]
     },
     "execution_count": 11,
     "metadata": {},
     "output_type": "execute_result"
    }
   ],
   "source": [
    "# Fitting the ANN to the Training set\n",
    "classifier.fit(X_train, y_train, batch_size = 10, nb_epoch = 100)"
   ]
  },
  {
   "cell_type": "code",
   "execution_count": 12,
   "metadata": {},
   "outputs": [],
   "source": [
    "# Part 3 - Making the predictions and evaluating the model\n",
    "\n",
    "# Predicting the Test set results\n",
    "y_pred = classifier.predict(X_test)\n",
    "y_pred = (y_pred > 0.5)\n",
    "\n",
    "# Making the Confusion Matrix\n",
    "from sklearn.metrics import confusion_matrix\n",
    "cm = confusion_matrix(y_test, y_pred)"
   ]
  },
  {
   "cell_type": "code",
   "execution_count": 13,
   "metadata": {},
   "outputs": [
    {
     "data": {
      "text/plain": [
       "array([[1486,  109],\n",
       "       [ 180,  225]])"
      ]
     },
     "execution_count": 13,
     "metadata": {},
     "output_type": "execute_result"
    }
   ],
   "source": [
    "cm"
   ]
  },
  {
   "cell_type": "code",
   "execution_count": 14,
   "metadata": {},
   "outputs": [
    {
     "data": {
      "text/plain": [
       "1711"
      ]
     },
     "execution_count": 14,
     "metadata": {},
     "output_type": "execute_result"
    }
   ],
   "source": [
    "1486+225"
   ]
  },
  {
   "cell_type": "code",
   "execution_count": 16,
   "metadata": {},
   "outputs": [
    {
     "data": {
      "text/plain": [
       "85.55"
      ]
     },
     "execution_count": 16,
     "metadata": {},
     "output_type": "execute_result"
    }
   ],
   "source": [
    "1711/20"
   ]
  },
  {
   "cell_type": "code",
   "execution_count": 17,
   "metadata": {},
   "outputs": [
    {
     "data": {
      "text/plain": [
       "array([[False],\n",
       "       [False],\n",
       "       [False],\n",
       "       ...,\n",
       "       [False],\n",
       "       [False],\n",
       "       [False]])"
      ]
     },
     "execution_count": 17,
     "metadata": {},
     "output_type": "execute_result"
    }
   ],
   "source": [
    "y_pred"
   ]
  },
  {
   "cell_type": "code",
   "execution_count": null,
   "metadata": {},
   "outputs": [],
   "source": []
  }
 ],
 "metadata": {
  "kernelspec": {
   "display_name": "Python 3",
   "language": "python",
   "name": "python3"
  },
  "language_info": {
   "codemirror_mode": {
    "name": "ipython",
    "version": 3
   },
   "file_extension": ".py",
   "mimetype": "text/x-python",
   "name": "python",
   "nbconvert_exporter": "python",
   "pygments_lexer": "ipython3",
   "version": "3.7.5"
  }
 },
 "nbformat": 4,
 "nbformat_minor": 2
}
